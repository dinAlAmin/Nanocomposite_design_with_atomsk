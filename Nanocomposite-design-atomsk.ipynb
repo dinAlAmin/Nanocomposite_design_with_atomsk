{
 "cells": [
  {
   "cell_type": "markdown",
   "id": "74a68445-5666-4752-ba3f-7283fa47c786",
   "metadata": {},
   "source": [
    "<h1>Importing important packages</h1>"
   ]
  },
  {
   "cell_type": "code",
   "execution_count": null,
   "id": "00e437ff-c2eb-436e-a7b8-fa3907eb07e0",
   "metadata": {},
   "outputs": [],
   "source": [
    "import os          #For directory changing and file handling\n",
    "import subprocess  #For using Powershell inside\n",
    "import glob        #For returing file paths that matches a common pattern\n",
    "import time        #For returning time passed\n",
    "import shutil      #For copying the final file into a folder"
   ]
  },
  {
   "cell_type": "markdown",
   "id": "c732fd73-a666-4290-bae3-0482005f9917",
   "metadata": {},
   "source": [
    "<h3>Chaging the direcotry using OS</h3>"
   ]
  },
  {
   "cell_type": "code",
   "execution_count": null,
   "id": "0057ae02-1995-4cf3-820c-3c7de5314b7a",
   "metadata": {},
   "outputs": [],
   "source": [
    "dir_name = input()       #Input the path of your desired directory\n",
    "os.chdir(str(dir_name))\n",
    "os.getcwd()              #To check if you have the correct directory"
   ]
  },
  {
   "cell_type": "markdown",
   "id": "26f73dac-b2f5-4a37-b26f-61d061bf4e88",
   "metadata": {},
   "source": [
    "<h2>Calculating parameters</h2>\n"
   ]
  },
  {
   "cell_type": "code",
   "execution_count": null,
   "id": "d7362462-cfcf-49cf-8ba6-f38dddd9b35e",
   "metadata": {},
   "outputs": [],
   "source": [
    "# * Metal Block Size *\n",
    "block_x = input(\"x-direction: \")\n",
    "block_y = input(\"y-direction: \")\n",
    "block_z = input(\"z-direction: \")\n",
    "\n",
    "metal_name = input       #Input shorthand string for the metal name, eg, for Copper it is 'Cu'\n",
    "metal_lattice = input()  #Input the lattice parameter of your desired metal matrix\n",
    "\n",
    "# * Graphene Block Size *\n",
    "# * This will generally be matched with the x and y value of Platinum *\n",
    "\n",
    "graphene_x_lattice = 2.44\n",
    "graphene_y_lattice = 4.23"
   ]
  },
  {
   "cell_type": "code",
   "execution_count": null,
   "id": "daf0392c-2bf9-4048-9d11-c8ddab6c28cf",
   "metadata": {},
   "outputs": [],
   "source": [
    "# Graphene values for duplicating\n",
    "\n",
    "Graphene_x = int(block_x) / graphene_x_lattice\n",
    "Graphene_y = int(block_y) / graphene_y_lattice\n",
    "\n",
    "# Metal values for duplicating\n",
    "\n",
    "Metal_x = int(block_x) / pt_lattice\n",
    "Metal_y = int(block_y) / pt_lattice\n",
    "Metal_z = int(block_z) / pt_lattice"
   ]
  },
  {
   "cell_type": "markdown",
   "id": "92ea1841-162a-4e64-aa9f-2042c615dcb3",
   "metadata": {},
   "source": [
    "<h3>Designing the Graphene sheet</h3>\n",
    "<p>Here the Graphene sheet will be extended in x and y direction by a lattice spacing of 2.44 and 4.23 correspondingly</p>\n",
    "<p>We need to input the x and y value by which the sheet will be expanded</p>"
   ]
  },
  {
   "cell_type": "code",
   "execution_count": null,
   "id": "04888887-cc1e-4ae4-9152-146779b3459a",
   "metadata": {},
   "outputs": [],
   "source": [
    "subprocess.run('atomsk --create graphite 2.44 4.23 C -cut below 0.2 Z -orthogonal-cell g_1.cfg', shell = True)\n",
    "g_str = 'atomsk g_1.cfg -duplicate ' + str(round(Graphene_x)) + ' ' + str(round(Graphene_y)) + ' 0 g_2.cfg'\n",
    "subprocess.run(g_str, shell = True)\n",
    "subprocess.run('atomsk g_2.cfg -center com g_base.cfg')"
   ]
  },
  {
   "cell_type": "markdown",
   "id": "f640fd43-6074-4e05-abb6-36263256818d",
   "metadata": {},
   "source": [
    "<h3>Designing the Metal matrix</h3>"
   ]
  },
  {
   "cell_type": "code",
   "execution_count": null,
   "id": "cfbb9cfe-3ebd-41ad-b212-a26f346dc51e",
   "metadata": {},
   "outputs": [],
   "source": [
    "p_str = 'atomsk --create fcc ' + str(metal_lattice) + ' ' + metal_name + ' -duplicate ' + str(round(Metal_x)) + str(' ') + str(round(Metal_y)) + str(' ') + str(round(Metal_z)) + ' pt_1.cfg'\n",
    "subprocess.run(p_str, shell = True)\n",
    "subprocess.run('atomsk pt_1.cfg -center com pt_base.cfg')"
   ]
  },
  {
   "cell_type": "markdown",
   "id": "c7b6f6ad-b46f-4672-b6f7-f7af26237f80",
   "metadata": {},
   "source": [
    "<h3>Completing the Nanocomposite</h3>"
   ]
  },
  {
   "cell_type": "code",
   "execution_count": null,
   "id": "0c0b0ad4-2e43-4695-a734-075248277882",
   "metadata": {},
   "outputs": [],
   "source": [
    "g_layer = input(\"Number of Graphene layers: \")"
   ]
  },
  {
   "cell_type": "code",
   "execution_count": null,
   "id": "28e6ad07-5cdc-41c9-9dcf-da12189a27ae",
   "metadata": {},
   "outputs": [],
   "source": [
    "subprocess.run('atomsk --merge z 3 pt_base.cfg g_base.cfg pt_base.cfg ini_NC.cfg')\n",
    "subprocess.run('atomsk --merge z 2 g_base.cfg pt_base.cfg duplicator.cfg')\n",
    "if int(g_layer) == 1 :\n",
    "    os.rename('ini_NC.cfg', 'NC.cfg')\n",
    "else:\n",
    "    os.rename('ini_NC.cfg', 'NC1.cfg')\n",
    "    for layer in range(int(g_layer) - 1):\n",
    "        layer_str = 'atomsk --merge z 2 NC' + str(layer+1) + '.cfg duplicator.cfg NC' + str(layer+2) + '.cfg'\n",
    "        subprocess.run(layer_str, shell = True)\n",
    "    file_name = 'NC' + str(g_layer) + '.cfg'\n",
    "    os.rename(file_name, 'NC.cfg')\n",
    "\n",
    "cut_x = 'atomsk NC.cfg -cut above ' + str(block_x) + ' x NC_x.cfg'\n",
    "cut_y = 'atomsk NC_x.cfg -cut above ' + str(block_y) + ' y NC_c.cfg'\n",
    "    \n",
    "subprocess.run(cut_x, shell = True)\n",
    "subprocess.run(cut_y, shell = True)\n",
    "subprocess.run('atomsk NC_c.cfg -center com F_NC.cfg', shell = True)"
   ]
  },
  {
   "cell_type": "markdown",
   "id": "16b20387-eb8d-4790-835c-cf6aeb1bbef7",
   "metadata": {},
   "source": [
    "<h3>Removing Unnecessary Files</h3> \n",
    "<p>Now we would like to keep the Final design file only and remove every other files</p>"
   ]
  },
  {
   "cell_type": "code",
   "execution_count": null,
   "id": "49c03553-405e-4b40-9575-80508e1d8abd",
   "metadata": {},
   "outputs": [],
   "source": [
    "design_file = dir_name + '/F_NC.cfg'\n",
    "\n",
    "while not os.path.exists(design_file):\n",
    "    time.sleep(10)\n",
    "    \n",
    "if os.path.isfile(design_file):\n",
    "    #Verifies FINAL DESIGN file was created, then deletes unneeded files.\n",
    "    for CleanUp in glob.glob(dir_name + '/*.*'):\n",
    "        #print(CleanUp)\n",
    "        if not CleanUp.endswith('F_NC.cfg'):    \n",
    "            os.remove(CleanUp)"
   ]
  },
  {
   "cell_type": "code",
   "execution_count": null,
   "id": "f9ea05dd-de8f-4acf-b6d9-abb3945b2fc8",
   "metadata": {},
   "outputs": [],
   "source": [
    "#Renaming the file so that finding it can be easier\n",
    "\n",
    "design_file_name = 'NC' + str(g_layer) + 'layers.cfg'\n",
    "os.rename('F_NC.cfg', design_file_name)\n",
    "\n",
    "design_folder_name = 'NC' + str(g_layer) + 'layers'\n",
    "os.mkdir(design_folder_name)\n",
    "\n",
    "source = dir_name + \"\\\\\" + design_file_name\n",
    "destination = dir_name + \"\\\\\" + design_folder_name + \"\\\\\" + design_file_name\n",
    "\n",
    "shutil.copyfile(source, destination)\n"
   ]
  }
 ],
 "metadata": {
  "kernelspec": {
   "display_name": "Python 3 (ipykernel)",
   "language": "python",
   "name": "python3"
  },
  "language_info": {
   "codemirror_mode": {
    "name": "ipython",
    "version": 3
   },
   "file_extension": ".py",
   "mimetype": "text/x-python",
   "name": "python",
   "nbconvert_exporter": "python",
   "pygments_lexer": "ipython3",
   "version": "3.9.7"
  }
 },
 "nbformat": 4,
 "nbformat_minor": 5
}
